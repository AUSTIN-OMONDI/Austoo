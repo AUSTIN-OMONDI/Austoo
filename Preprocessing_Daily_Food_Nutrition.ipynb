{
  "nbformat": 4,
  "nbformat_minor": 0,
  "metadata": {
    "colab": {
      "provenance": [],
      "authorship_tag": "ABX9TyMvBCpBQ2l7aEmMsMO7hOcr",
      "include_colab_link": true
    },
    "kernelspec": {
      "name": "python3",
      "display_name": "Python 3"
    },
    "language_info": {
      "name": "python"
    }
  },
  "cells": [
    {
      "cell_type": "markdown",
      "metadata": {
        "id": "view-in-github",
        "colab_type": "text"
      },
      "source": [
        "<a href=\"https://colab.research.google.com/github/AUSTIN-OMONDI/Austoo/blob/main/Preprocessing_Daily_Food_Nutrition.ipynb\" target=\"_parent\"><img src=\"https://colab.research.google.com/assets/colab-badge.svg\" alt=\"Open In Colab\"/></a>"
      ]
    },
    {
      "cell_type": "markdown",
      "source": [
        "##1. Load the Data"
      ],
      "metadata": {
        "id": "sDFbIjTl5Iem"
      }
    },
    {
      "cell_type": "code",
      "execution_count": 1,
      "metadata": {
        "id": "4uU95b1Z3LB0"
      },
      "outputs": [],
      "source": [
        "import pandas as pd\n",
        "\n",
        "# Load the dataset\n",
        "df = pd.read_csv('daily_food_nutrition_dataset.csv')"
      ]
    },
    {
      "cell_type": "markdown",
      "source": [
        "##2. Inspect the Data"
      ],
      "metadata": {
        "id": "xAz5ulnq5MDf"
      }
    },
    {
      "cell_type": "code",
      "source": [
        "# Display the first few rows\n",
        "(df.head())"
      ],
      "metadata": {
        "colab": {
          "base_uri": "https://localhost:8080/"
        },
        "id": "Hy6DETt_3iQd",
        "outputId": "824cf6dd-c89e-42c7-8d94-aa2dab143e99"
      },
      "execution_count": 4,
      "outputs": [
        {
          "output_type": "stream",
          "name": "stdout",
          "text": [
            "         Date  User_ID       Food_Item Category  Calories (kcal)  Protein (g)  \\\n",
            "0  2024-09-11      496            Eggs     Meat              173         42.4   \n",
            "1  2024-12-17      201           Apple   Fruits               66         39.2   \n",
            "2  2024-06-09      776  Chicken Breast     Meat              226         27.1   \n",
            "3  2024-08-27      112          Banana   Fruits              116         43.4   \n",
            "4  2024-07-28      622          Banana   Fruits              500         33.9   \n",
            "\n",
            "   Carbohydrates (g)  Fat (g)  Fiber (g)  Sugars (g)  Sodium (mg)  \\\n",
            "0               83.7      1.5        1.5        12.7          752   \n",
            "1               13.8      3.2        2.6        12.2          680   \n",
            "2               79.1     25.8        3.2        44.7          295   \n",
            "3               47.1     16.1        6.5        44.1          307   \n",
            "4               75.8     47.0        7.8        19.4          358   \n",
            "\n",
            "   Cholesterol (mg)  Meal_Type  Water_Intake (ml)  \n",
            "0               125      Lunch                478  \n",
            "1                97      Lunch                466  \n",
            "2               157  Breakfast                635  \n",
            "3                13      Snack                379  \n",
            "4               148      Lunch                471  \n"
          ]
        }
      ]
    },
    {
      "cell_type": "code",
      "source": [
        "# Get summary information\n",
        "(df.info())"
      ],
      "metadata": {
        "colab": {
          "base_uri": "https://localhost:8080/"
        },
        "id": "QrFD64ah3qS8",
        "outputId": "68413605-2ac0-45a4-ab83-9f4c53d99026"
      },
      "execution_count": 5,
      "outputs": [
        {
          "output_type": "stream",
          "name": "stdout",
          "text": [
            "<class 'pandas.core.frame.DataFrame'>\n",
            "RangeIndex: 10000 entries, 0 to 9999\n",
            "Data columns (total 14 columns):\n",
            " #   Column             Non-Null Count  Dtype  \n",
            "---  ------             --------------  -----  \n",
            " 0   Date               10000 non-null  object \n",
            " 1   User_ID            10000 non-null  int64  \n",
            " 2   Food_Item          10000 non-null  object \n",
            " 3   Category           10000 non-null  object \n",
            " 4   Calories (kcal)    10000 non-null  int64  \n",
            " 5   Protein (g)        10000 non-null  float64\n",
            " 6   Carbohydrates (g)  10000 non-null  float64\n",
            " 7   Fat (g)            10000 non-null  float64\n",
            " 8   Fiber (g)          10000 non-null  float64\n",
            " 9   Sugars (g)         10000 non-null  float64\n",
            " 10  Sodium (mg)        10000 non-null  int64  \n",
            " 11  Cholesterol (mg)   10000 non-null  int64  \n",
            " 12  Meal_Type          10000 non-null  object \n",
            " 13  Water_Intake (ml)  10000 non-null  int64  \n",
            "dtypes: float64(5), int64(5), object(4)\n",
            "memory usage: 1.1+ MB\n"
          ]
        }
      ]
    },
    {
      "cell_type": "code",
      "source": [
        "# Get statistical summary\n",
        "(df.describe())"
      ],
      "metadata": {
        "colab": {
          "base_uri": "https://localhost:8080/",
          "height": 338
        },
        "id": "iUKPt0UF39Za",
        "outputId": "6f53e205-d0d7-48e7-940c-df0b12249010"
      },
      "execution_count": 6,
      "outputs": [
        {
          "output_type": "execute_result",
          "data": {
            "text/plain": [
              "            User_ID  Calories (kcal)   Protein (g)  Carbohydrates (g)  \\\n",
              "count  10000.000000     10000.000000  10000.000000       10000.000000   \n",
              "mean     498.706300       327.693900     25.523050          52.568550   \n",
              "std      289.123477       158.194716     14.131993          27.387152   \n",
              "min        1.000000        50.000000      1.000000           5.000000   \n",
              "25%      245.000000       190.000000     13.200000          28.800000   \n",
              "50%      492.000000       328.000000     25.500000          52.800000   \n",
              "75%      748.000000       464.000000     37.700000          76.400000   \n",
              "max     1000.000000       600.000000     50.000000         100.000000   \n",
              "\n",
              "           Fat (g)     Fiber (g)    Sugars (g)   Sodium (mg)  \\\n",
              "count  10000.00000  10000.000000  10000.000000  10000.000000   \n",
              "mean      25.43735      4.986940     25.052570    497.969000   \n",
              "std       14.14532      2.864984     14.480605    287.988001   \n",
              "min        1.00000      0.000000      0.000000      0.000000   \n",
              "25%       13.30000      2.500000     12.500000    249.750000   \n",
              "50%       25.30000      5.000000     25.000000    495.000000   \n",
              "75%       37.60000      7.500000     37.700000    749.000000   \n",
              "max       50.00000     10.000000     50.000000   1000.000000   \n",
              "\n",
              "       Cholesterol (mg)  Water_Intake (ml)  \n",
              "count      10000.000000       10000.000000  \n",
              "mean         151.886600         554.353600  \n",
              "std           87.360643         260.977642  \n",
              "min            0.000000         100.000000  \n",
              "25%           76.000000         327.000000  \n",
              "50%          153.000000         555.500000  \n",
              "75%          228.000000         783.000000  \n",
              "max          300.000000        1000.000000  "
            ],
            "text/html": [
              "\n",
              "  <div id=\"df-789d2715-84d4-4617-ab72-a1ccaa559f65\" class=\"colab-df-container\">\n",
              "    <div>\n",
              "<style scoped>\n",
              "    .dataframe tbody tr th:only-of-type {\n",
              "        vertical-align: middle;\n",
              "    }\n",
              "\n",
              "    .dataframe tbody tr th {\n",
              "        vertical-align: top;\n",
              "    }\n",
              "\n",
              "    .dataframe thead th {\n",
              "        text-align: right;\n",
              "    }\n",
              "</style>\n",
              "<table border=\"1\" class=\"dataframe\">\n",
              "  <thead>\n",
              "    <tr style=\"text-align: right;\">\n",
              "      <th></th>\n",
              "      <th>User_ID</th>\n",
              "      <th>Calories (kcal)</th>\n",
              "      <th>Protein (g)</th>\n",
              "      <th>Carbohydrates (g)</th>\n",
              "      <th>Fat (g)</th>\n",
              "      <th>Fiber (g)</th>\n",
              "      <th>Sugars (g)</th>\n",
              "      <th>Sodium (mg)</th>\n",
              "      <th>Cholesterol (mg)</th>\n",
              "      <th>Water_Intake (ml)</th>\n",
              "    </tr>\n",
              "  </thead>\n",
              "  <tbody>\n",
              "    <tr>\n",
              "      <th>count</th>\n",
              "      <td>10000.000000</td>\n",
              "      <td>10000.000000</td>\n",
              "      <td>10000.000000</td>\n",
              "      <td>10000.000000</td>\n",
              "      <td>10000.00000</td>\n",
              "      <td>10000.000000</td>\n",
              "      <td>10000.000000</td>\n",
              "      <td>10000.000000</td>\n",
              "      <td>10000.000000</td>\n",
              "      <td>10000.000000</td>\n",
              "    </tr>\n",
              "    <tr>\n",
              "      <th>mean</th>\n",
              "      <td>498.706300</td>\n",
              "      <td>327.693900</td>\n",
              "      <td>25.523050</td>\n",
              "      <td>52.568550</td>\n",
              "      <td>25.43735</td>\n",
              "      <td>4.986940</td>\n",
              "      <td>25.052570</td>\n",
              "      <td>497.969000</td>\n",
              "      <td>151.886600</td>\n",
              "      <td>554.353600</td>\n",
              "    </tr>\n",
              "    <tr>\n",
              "      <th>std</th>\n",
              "      <td>289.123477</td>\n",
              "      <td>158.194716</td>\n",
              "      <td>14.131993</td>\n",
              "      <td>27.387152</td>\n",
              "      <td>14.14532</td>\n",
              "      <td>2.864984</td>\n",
              "      <td>14.480605</td>\n",
              "      <td>287.988001</td>\n",
              "      <td>87.360643</td>\n",
              "      <td>260.977642</td>\n",
              "    </tr>\n",
              "    <tr>\n",
              "      <th>min</th>\n",
              "      <td>1.000000</td>\n",
              "      <td>50.000000</td>\n",
              "      <td>1.000000</td>\n",
              "      <td>5.000000</td>\n",
              "      <td>1.00000</td>\n",
              "      <td>0.000000</td>\n",
              "      <td>0.000000</td>\n",
              "      <td>0.000000</td>\n",
              "      <td>0.000000</td>\n",
              "      <td>100.000000</td>\n",
              "    </tr>\n",
              "    <tr>\n",
              "      <th>25%</th>\n",
              "      <td>245.000000</td>\n",
              "      <td>190.000000</td>\n",
              "      <td>13.200000</td>\n",
              "      <td>28.800000</td>\n",
              "      <td>13.30000</td>\n",
              "      <td>2.500000</td>\n",
              "      <td>12.500000</td>\n",
              "      <td>249.750000</td>\n",
              "      <td>76.000000</td>\n",
              "      <td>327.000000</td>\n",
              "    </tr>\n",
              "    <tr>\n",
              "      <th>50%</th>\n",
              "      <td>492.000000</td>\n",
              "      <td>328.000000</td>\n",
              "      <td>25.500000</td>\n",
              "      <td>52.800000</td>\n",
              "      <td>25.30000</td>\n",
              "      <td>5.000000</td>\n",
              "      <td>25.000000</td>\n",
              "      <td>495.000000</td>\n",
              "      <td>153.000000</td>\n",
              "      <td>555.500000</td>\n",
              "    </tr>\n",
              "    <tr>\n",
              "      <th>75%</th>\n",
              "      <td>748.000000</td>\n",
              "      <td>464.000000</td>\n",
              "      <td>37.700000</td>\n",
              "      <td>76.400000</td>\n",
              "      <td>37.60000</td>\n",
              "      <td>7.500000</td>\n",
              "      <td>37.700000</td>\n",
              "      <td>749.000000</td>\n",
              "      <td>228.000000</td>\n",
              "      <td>783.000000</td>\n",
              "    </tr>\n",
              "    <tr>\n",
              "      <th>max</th>\n",
              "      <td>1000.000000</td>\n",
              "      <td>600.000000</td>\n",
              "      <td>50.000000</td>\n",
              "      <td>100.000000</td>\n",
              "      <td>50.00000</td>\n",
              "      <td>10.000000</td>\n",
              "      <td>50.000000</td>\n",
              "      <td>1000.000000</td>\n",
              "      <td>300.000000</td>\n",
              "      <td>1000.000000</td>\n",
              "    </tr>\n",
              "  </tbody>\n",
              "</table>\n",
              "</div>\n",
              "    <div class=\"colab-df-buttons\">\n",
              "\n",
              "  <div class=\"colab-df-container\">\n",
              "    <button class=\"colab-df-convert\" onclick=\"convertToInteractive('df-789d2715-84d4-4617-ab72-a1ccaa559f65')\"\n",
              "            title=\"Convert this dataframe to an interactive table.\"\n",
              "            style=\"display:none;\">\n",
              "\n",
              "  <svg xmlns=\"http://www.w3.org/2000/svg\" height=\"24px\" viewBox=\"0 -960 960 960\">\n",
              "    <path d=\"M120-120v-720h720v720H120Zm60-500h600v-160H180v160Zm220 220h160v-160H400v160Zm0 220h160v-160H400v160ZM180-400h160v-160H180v160Zm440 0h160v-160H620v160ZM180-180h160v-160H180v160Zm440 0h160v-160H620v160Z\"/>\n",
              "  </svg>\n",
              "    </button>\n",
              "\n",
              "  <style>\n",
              "    .colab-df-container {\n",
              "      display:flex;\n",
              "      gap: 12px;\n",
              "    }\n",
              "\n",
              "    .colab-df-convert {\n",
              "      background-color: #E8F0FE;\n",
              "      border: none;\n",
              "      border-radius: 50%;\n",
              "      cursor: pointer;\n",
              "      display: none;\n",
              "      fill: #1967D2;\n",
              "      height: 32px;\n",
              "      padding: 0 0 0 0;\n",
              "      width: 32px;\n",
              "    }\n",
              "\n",
              "    .colab-df-convert:hover {\n",
              "      background-color: #E2EBFA;\n",
              "      box-shadow: 0px 1px 2px rgba(60, 64, 67, 0.3), 0px 1px 3px 1px rgba(60, 64, 67, 0.15);\n",
              "      fill: #174EA6;\n",
              "    }\n",
              "\n",
              "    .colab-df-buttons div {\n",
              "      margin-bottom: 4px;\n",
              "    }\n",
              "\n",
              "    [theme=dark] .colab-df-convert {\n",
              "      background-color: #3B4455;\n",
              "      fill: #D2E3FC;\n",
              "    }\n",
              "\n",
              "    [theme=dark] .colab-df-convert:hover {\n",
              "      background-color: #434B5C;\n",
              "      box-shadow: 0px 1px 3px 1px rgba(0, 0, 0, 0.15);\n",
              "      filter: drop-shadow(0px 1px 2px rgba(0, 0, 0, 0.3));\n",
              "      fill: #FFFFFF;\n",
              "    }\n",
              "  </style>\n",
              "\n",
              "    <script>\n",
              "      const buttonEl =\n",
              "        document.querySelector('#df-789d2715-84d4-4617-ab72-a1ccaa559f65 button.colab-df-convert');\n",
              "      buttonEl.style.display =\n",
              "        google.colab.kernel.accessAllowed ? 'block' : 'none';\n",
              "\n",
              "      async function convertToInteractive(key) {\n",
              "        const element = document.querySelector('#df-789d2715-84d4-4617-ab72-a1ccaa559f65');\n",
              "        const dataTable =\n",
              "          await google.colab.kernel.invokeFunction('convertToInteractive',\n",
              "                                                    [key], {});\n",
              "        if (!dataTable) return;\n",
              "\n",
              "        const docLinkHtml = 'Like what you see? Visit the ' +\n",
              "          '<a target=\"_blank\" href=https://colab.research.google.com/notebooks/data_table.ipynb>data table notebook</a>'\n",
              "          + ' to learn more about interactive tables.';\n",
              "        element.innerHTML = '';\n",
              "        dataTable['output_type'] = 'display_data';\n",
              "        await google.colab.output.renderOutput(dataTable, element);\n",
              "        const docLink = document.createElement('div');\n",
              "        docLink.innerHTML = docLinkHtml;\n",
              "        element.appendChild(docLink);\n",
              "      }\n",
              "    </script>\n",
              "  </div>\n",
              "\n",
              "\n",
              "<div id=\"df-5fe03112-609b-4290-a767-3d0dc7f1d40e\">\n",
              "  <button class=\"colab-df-quickchart\" onclick=\"quickchart('df-5fe03112-609b-4290-a767-3d0dc7f1d40e')\"\n",
              "            title=\"Suggest charts\"\n",
              "            style=\"display:none;\">\n",
              "\n",
              "<svg xmlns=\"http://www.w3.org/2000/svg\" height=\"24px\"viewBox=\"0 0 24 24\"\n",
              "     width=\"24px\">\n",
              "    <g>\n",
              "        <path d=\"M19 3H5c-1.1 0-2 .9-2 2v14c0 1.1.9 2 2 2h14c1.1 0 2-.9 2-2V5c0-1.1-.9-2-2-2zM9 17H7v-7h2v7zm4 0h-2V7h2v10zm4 0h-2v-4h2v4z\"/>\n",
              "    </g>\n",
              "</svg>\n",
              "  </button>\n",
              "\n",
              "<style>\n",
              "  .colab-df-quickchart {\n",
              "      --bg-color: #E8F0FE;\n",
              "      --fill-color: #1967D2;\n",
              "      --hover-bg-color: #E2EBFA;\n",
              "      --hover-fill-color: #174EA6;\n",
              "      --disabled-fill-color: #AAA;\n",
              "      --disabled-bg-color: #DDD;\n",
              "  }\n",
              "\n",
              "  [theme=dark] .colab-df-quickchart {\n",
              "      --bg-color: #3B4455;\n",
              "      --fill-color: #D2E3FC;\n",
              "      --hover-bg-color: #434B5C;\n",
              "      --hover-fill-color: #FFFFFF;\n",
              "      --disabled-bg-color: #3B4455;\n",
              "      --disabled-fill-color: #666;\n",
              "  }\n",
              "\n",
              "  .colab-df-quickchart {\n",
              "    background-color: var(--bg-color);\n",
              "    border: none;\n",
              "    border-radius: 50%;\n",
              "    cursor: pointer;\n",
              "    display: none;\n",
              "    fill: var(--fill-color);\n",
              "    height: 32px;\n",
              "    padding: 0;\n",
              "    width: 32px;\n",
              "  }\n",
              "\n",
              "  .colab-df-quickchart:hover {\n",
              "    background-color: var(--hover-bg-color);\n",
              "    box-shadow: 0 1px 2px rgba(60, 64, 67, 0.3), 0 1px 3px 1px rgba(60, 64, 67, 0.15);\n",
              "    fill: var(--button-hover-fill-color);\n",
              "  }\n",
              "\n",
              "  .colab-df-quickchart-complete:disabled,\n",
              "  .colab-df-quickchart-complete:disabled:hover {\n",
              "    background-color: var(--disabled-bg-color);\n",
              "    fill: var(--disabled-fill-color);\n",
              "    box-shadow: none;\n",
              "  }\n",
              "\n",
              "  .colab-df-spinner {\n",
              "    border: 2px solid var(--fill-color);\n",
              "    border-color: transparent;\n",
              "    border-bottom-color: var(--fill-color);\n",
              "    animation:\n",
              "      spin 1s steps(1) infinite;\n",
              "  }\n",
              "\n",
              "  @keyframes spin {\n",
              "    0% {\n",
              "      border-color: transparent;\n",
              "      border-bottom-color: var(--fill-color);\n",
              "      border-left-color: var(--fill-color);\n",
              "    }\n",
              "    20% {\n",
              "      border-color: transparent;\n",
              "      border-left-color: var(--fill-color);\n",
              "      border-top-color: var(--fill-color);\n",
              "    }\n",
              "    30% {\n",
              "      border-color: transparent;\n",
              "      border-left-color: var(--fill-color);\n",
              "      border-top-color: var(--fill-color);\n",
              "      border-right-color: var(--fill-color);\n",
              "    }\n",
              "    40% {\n",
              "      border-color: transparent;\n",
              "      border-right-color: var(--fill-color);\n",
              "      border-top-color: var(--fill-color);\n",
              "    }\n",
              "    60% {\n",
              "      border-color: transparent;\n",
              "      border-right-color: var(--fill-color);\n",
              "    }\n",
              "    80% {\n",
              "      border-color: transparent;\n",
              "      border-right-color: var(--fill-color);\n",
              "      border-bottom-color: var(--fill-color);\n",
              "    }\n",
              "    90% {\n",
              "      border-color: transparent;\n",
              "      border-bottom-color: var(--fill-color);\n",
              "    }\n",
              "  }\n",
              "</style>\n",
              "\n",
              "  <script>\n",
              "    async function quickchart(key) {\n",
              "      const quickchartButtonEl =\n",
              "        document.querySelector('#' + key + ' button');\n",
              "      quickchartButtonEl.disabled = true;  // To prevent multiple clicks.\n",
              "      quickchartButtonEl.classList.add('colab-df-spinner');\n",
              "      try {\n",
              "        const charts = await google.colab.kernel.invokeFunction(\n",
              "            'suggestCharts', [key], {});\n",
              "      } catch (error) {\n",
              "        console.error('Error during call to suggestCharts:', error);\n",
              "      }\n",
              "      quickchartButtonEl.classList.remove('colab-df-spinner');\n",
              "      quickchartButtonEl.classList.add('colab-df-quickchart-complete');\n",
              "    }\n",
              "    (() => {\n",
              "      let quickchartButtonEl =\n",
              "        document.querySelector('#df-5fe03112-609b-4290-a767-3d0dc7f1d40e button');\n",
              "      quickchartButtonEl.style.display =\n",
              "        google.colab.kernel.accessAllowed ? 'block' : 'none';\n",
              "    })();\n",
              "  </script>\n",
              "</div>\n",
              "\n",
              "    </div>\n",
              "  </div>\n"
            ],
            "application/vnd.google.colaboratory.intrinsic+json": {
              "type": "dataframe",
              "summary": "{\n  \"name\": \"(df\",\n  \"rows\": 8,\n  \"fields\": [\n    {\n      \"column\": \"User_ID\",\n      \"properties\": {\n        \"dtype\": \"number\",\n        \"std\": 3384.1980426115983,\n        \"min\": 1.0,\n        \"max\": 10000.0,\n        \"num_unique_values\": 8,\n        \"samples\": [\n          498.7063,\n          492.0,\n          10000.0\n        ],\n        \"semantic_type\": \"\",\n        \"description\": \"\"\n      }\n    },\n    {\n      \"column\": \"Calories (kcal)\",\n      \"properties\": {\n        \"dtype\": \"number\",\n        \"std\": 3433.001306575354,\n        \"min\": 50.0,\n        \"max\": 10000.0,\n        \"num_unique_values\": 8,\n        \"samples\": [\n          327.6939,\n          328.0,\n          10000.0\n        ],\n        \"semantic_type\": \"\",\n        \"description\": \"\"\n      }\n    },\n    {\n      \"column\": \"Protein (g)\",\n      \"properties\": {\n        \"dtype\": \"number\",\n        \"std\": 3527.128979969272,\n        \"min\": 1.0,\n        \"max\": 10000.0,\n        \"num_unique_values\": 8,\n        \"samples\": [\n          25.52305,\n          25.5,\n          10000.0\n        ],\n        \"semantic_type\": \"\",\n        \"description\": \"\"\n      }\n    },\n    {\n      \"column\": \"Carbohydrates (g)\",\n      \"properties\": {\n        \"dtype\": \"number\",\n        \"std\": 3518.3376993622483,\n        \"min\": 5.0,\n        \"max\": 10000.0,\n        \"num_unique_values\": 8,\n        \"samples\": [\n          52.56855,\n          52.8,\n          10000.0\n        ],\n        \"semantic_type\": \"\",\n        \"description\": \"\"\n      }\n    },\n    {\n      \"column\": \"Fat (g)\",\n      \"properties\": {\n        \"dtype\": \"number\",\n        \"std\": 3527.1426144177344,\n        \"min\": 1.0,\n        \"max\": 10000.0,\n        \"num_unique_values\": 8,\n        \"samples\": [\n          25.43735,\n          25.3,\n          10000.0\n        ],\n        \"semantic_type\": \"\",\n        \"description\": \"\"\n      }\n    },\n    {\n      \"column\": \"Fiber (g)\",\n      \"properties\": {\n        \"dtype\": \"number\",\n        \"std\": 3533.875975291236,\n        \"min\": 0.0,\n        \"max\": 10000.0,\n        \"num_unique_values\": 8,\n        \"samples\": [\n          4.98694,\n          5.0,\n          10000.0\n        ],\n        \"semantic_type\": \"\",\n        \"description\": \"\"\n      }\n    },\n    {\n      \"column\": \"Sugars (g)\",\n      \"properties\": {\n        \"dtype\": \"number\",\n        \"std\": 3527.2473037637487,\n        \"min\": 0.0,\n        \"max\": 10000.0,\n        \"num_unique_values\": 8,\n        \"samples\": [\n          25.052570000000003,\n          25.0,\n          10000.0\n        ],\n        \"semantic_type\": \"\",\n        \"description\": \"\"\n      }\n    },\n    {\n      \"column\": \"Sodium (mg)\",\n      \"properties\": {\n        \"dtype\": \"number\",\n        \"std\": 3383.900623794065,\n        \"min\": 0.0,\n        \"max\": 10000.0,\n        \"num_unique_values\": 8,\n        \"samples\": [\n          497.969,\n          495.0,\n          10000.0\n        ],\n        \"semantic_type\": \"\",\n        \"description\": \"\"\n      }\n    },\n    {\n      \"column\": \"Cholesterol (mg)\",\n      \"properties\": {\n        \"dtype\": \"number\",\n        \"std\": 3486.446999101428,\n        \"min\": 0.0,\n        \"max\": 10000.0,\n        \"num_unique_values\": 8,\n        \"samples\": [\n          151.8866,\n          153.0,\n          10000.0\n        ],\n        \"semantic_type\": \"\",\n        \"description\": \"\"\n      }\n    },\n    {\n      \"column\": \"Water_Intake (ml)\",\n      \"properties\": {\n        \"dtype\": \"number\",\n        \"std\": 3367.049224070121,\n        \"min\": 100.0,\n        \"max\": 10000.0,\n        \"num_unique_values\": 8,\n        \"samples\": [\n          554.3536,\n          555.5,\n          10000.0\n        ],\n        \"semantic_type\": \"\",\n        \"description\": \"\"\n      }\n    }\n  ]\n}"
            }
          },
          "metadata": {},
          "execution_count": 6
        }
      ]
    },
    {
      "cell_type": "markdown",
      "source": [
        "##3. Handle Missing Values"
      ],
      "metadata": {
        "id": "8bqXcMOx5bX3"
      }
    },
    {
      "cell_type": "code",
      "source": [
        "df.isnull().sum()"
      ],
      "metadata": {
        "colab": {
          "base_uri": "https://localhost:8080/",
          "height": 523
        },
        "id": "mxztnJnE4N5Q",
        "outputId": "00186938-e366-40a8-9e17-bce09b8e482e"
      },
      "execution_count": 7,
      "outputs": [
        {
          "output_type": "execute_result",
          "data": {
            "text/plain": [
              "Date                 0\n",
              "User_ID              0\n",
              "Food_Item            0\n",
              "Category             0\n",
              "Calories (kcal)      0\n",
              "Protein (g)          0\n",
              "Carbohydrates (g)    0\n",
              "Fat (g)              0\n",
              "Fiber (g)            0\n",
              "Sugars (g)           0\n",
              "Sodium (mg)          0\n",
              "Cholesterol (mg)     0\n",
              "Meal_Type            0\n",
              "Water_Intake (ml)    0\n",
              "dtype: int64"
            ],
            "text/html": [
              "<div>\n",
              "<style scoped>\n",
              "    .dataframe tbody tr th:only-of-type {\n",
              "        vertical-align: middle;\n",
              "    }\n",
              "\n",
              "    .dataframe tbody tr th {\n",
              "        vertical-align: top;\n",
              "    }\n",
              "\n",
              "    .dataframe thead th {\n",
              "        text-align: right;\n",
              "    }\n",
              "</style>\n",
              "<table border=\"1\" class=\"dataframe\">\n",
              "  <thead>\n",
              "    <tr style=\"text-align: right;\">\n",
              "      <th></th>\n",
              "      <th>0</th>\n",
              "    </tr>\n",
              "  </thead>\n",
              "  <tbody>\n",
              "    <tr>\n",
              "      <th>Date</th>\n",
              "      <td>0</td>\n",
              "    </tr>\n",
              "    <tr>\n",
              "      <th>User_ID</th>\n",
              "      <td>0</td>\n",
              "    </tr>\n",
              "    <tr>\n",
              "      <th>Food_Item</th>\n",
              "      <td>0</td>\n",
              "    </tr>\n",
              "    <tr>\n",
              "      <th>Category</th>\n",
              "      <td>0</td>\n",
              "    </tr>\n",
              "    <tr>\n",
              "      <th>Calories (kcal)</th>\n",
              "      <td>0</td>\n",
              "    </tr>\n",
              "    <tr>\n",
              "      <th>Protein (g)</th>\n",
              "      <td>0</td>\n",
              "    </tr>\n",
              "    <tr>\n",
              "      <th>Carbohydrates (g)</th>\n",
              "      <td>0</td>\n",
              "    </tr>\n",
              "    <tr>\n",
              "      <th>Fat (g)</th>\n",
              "      <td>0</td>\n",
              "    </tr>\n",
              "    <tr>\n",
              "      <th>Fiber (g)</th>\n",
              "      <td>0</td>\n",
              "    </tr>\n",
              "    <tr>\n",
              "      <th>Sugars (g)</th>\n",
              "      <td>0</td>\n",
              "    </tr>\n",
              "    <tr>\n",
              "      <th>Sodium (mg)</th>\n",
              "      <td>0</td>\n",
              "    </tr>\n",
              "    <tr>\n",
              "      <th>Cholesterol (mg)</th>\n",
              "      <td>0</td>\n",
              "    </tr>\n",
              "    <tr>\n",
              "      <th>Meal_Type</th>\n",
              "      <td>0</td>\n",
              "    </tr>\n",
              "    <tr>\n",
              "      <th>Water_Intake (ml)</th>\n",
              "      <td>0</td>\n",
              "    </tr>\n",
              "  </tbody>\n",
              "</table>\n",
              "</div><br><label><b>dtype:</b> int64</label>"
            ]
          },
          "metadata": {},
          "execution_count": 7
        }
      ]
    },
    {
      "cell_type": "markdown",
      "source": [
        "##4. Handle Duplicates"
      ],
      "metadata": {
        "id": "0p4Rnlq95kBd"
      }
    },
    {
      "cell_type": "code",
      "source": [
        "df.duplicated().sum()"
      ],
      "metadata": {
        "colab": {
          "base_uri": "https://localhost:8080/"
        },
        "id": "g_W--Tl54gZj",
        "outputId": "a67eb451-54d7-4df1-d3cb-9bbcac80fc5f"
      },
      "execution_count": 8,
      "outputs": [
        {
          "output_type": "execute_result",
          "data": {
            "text/plain": [
              "0"
            ]
          },
          "metadata": {},
          "execution_count": 8
        }
      ]
    },
    {
      "cell_type": "markdown",
      "source": [
        "##Convert Data Types"
      ],
      "metadata": {
        "id": "_2-t72Vk77iU"
      }
    },
    {
      "cell_type": "code",
      "source": [
        "# Convert 'Category' to categorical type\n",
        "df['Category'] = df['Category'].astype('category')"
      ],
      "metadata": {
        "id": "8oSBA_eQ4-YV"
      },
      "execution_count": 9,
      "outputs": []
    },
    {
      "cell_type": "markdown",
      "source": [
        "##6. Encode Categorical Variables"
      ],
      "metadata": {
        "id": "ylhAkHns8Koi"
      }
    },
    {
      "cell_type": "code",
      "source": [
        "# One-hot encoding for 'Category'\n",
        "df = pd.get_dummies(df, columns=['Category'], drop_first=True)"
      ],
      "metadata": {
        "id": "MM4WCQ5I8Byf"
      },
      "execution_count": 10,
      "outputs": []
    },
    {
      "cell_type": "markdown",
      "source": [
        "##7. Normalize or Scale Numerical values"
      ],
      "metadata": {
        "id": "WKftIgmw84GJ"
      }
    },
    {
      "cell_type": "code",
      "source": [
        "from sklearn.preprocessing import StandardScaler\n",
        "\n",
        "# Standardize numerical columns\n",
        "scaler = StandardScaler()\n",
        "numerical_cols = ['Calories (kcal)', 'Protein (g)', 'Carbohydrates (g)', 'Fat (g)', 'Fiber (g)', 'Sugars (g)', 'Sodium (mg)', 'Cholesterol (mg)', 'Water_Intake (ml)']\n",
        "df[numerical_cols] = scaler.fit_transform(df[numerical_cols])"
      ],
      "metadata": {
        "id": "nwYAWDfe8bAT"
      },
      "execution_count": 11,
      "outputs": []
    },
    {
      "cell_type": "markdown",
      "source": [
        "##8. Feature Scalling"
      ],
      "metadata": {
        "id": "CVPnsJQB9af5"
      }
    },
    {
      "cell_type": "code",
      "source": [
        "# Example: Create a new feature 'Total_Nutrients' as the sum of Protein, Carbs, and Fat\n",
        "df['Total_Nutrients'] = df['Protein (g)'] + df['Carbohydrates (g)'] + df['Fat (g)']"
      ],
      "metadata": {
        "id": "BqIWgiqI9Jkr"
      },
      "execution_count": 12,
      "outputs": []
    },
    {
      "cell_type": "markdown",
      "source": [
        "##9. Split the Data"
      ],
      "metadata": {
        "id": "QTxHeLv_939S"
      }
    },
    {
      "cell_type": "code",
      "source": [
        "from sklearn.model_selection import train_test_split\n",
        "\n",
        "# Split the data into training and testing sets\n",
        "X = df.drop('Calories (kcal)', axis=1)  # Features\n",
        "y = df['Calories (kcal)']  # Target variable\n",
        "X_train, X_test, y_train, y_test = train_test_split(X, y, test_size=0.2, random_state=42)"
      ],
      "metadata": {
        "id": "136E2xBC9i-F"
      },
      "execution_count": 13,
      "outputs": []
    },
    {
      "cell_type": "markdown",
      "source": [
        "##10. Save the Preprocessed Data"
      ],
      "metadata": {
        "id": "Cu863ZRp-blQ"
      }
    },
    {
      "cell_type": "code",
      "source": [
        "#This allows you to reuse the preprocessed data without repeating the preprocessing steps.\n",
        "# Save the preprocessed data\n",
        "df.to_csv('preprocessed_daily_food_nutrition_dataset.csv', index=False)"
      ],
      "metadata": {
        "id": "_tSXLBbD-JzM"
      },
      "execution_count": 14,
      "outputs": []
    },
    {
      "cell_type": "code",
      "source": [],
      "metadata": {
        "id": "6hOyc1yA-zDP"
      },
      "execution_count": null,
      "outputs": []
    }
  ]
}